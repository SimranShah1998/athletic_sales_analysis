{
 "cells": [
  {
   "cell_type": "markdown",
   "id": "cb223959-9a55-4929-a218-f2cf416d8edf",
   "metadata": {},
   "source": [
    "# Athletic Sales Analysis"
   ]
  },
  {
   "cell_type": "code",
   "execution_count": 1,
   "id": "28f37080-8f41-47ba-b26e-28c30b36af30",
   "metadata": {},
   "outputs": [],
   "source": [
    "import pandas as pd"
   ]
  },
  {
   "cell_type": "markdown",
   "id": "73e3f3b8-9573-49c2-92f4-d1ff97ae1bf9",
   "metadata": {},
   "source": [
    "## Combine and Clean the Data"
   ]
  },
  {
   "cell_type": "code",
   "execution_count": 2,
   "id": "2c02ca43-a546-412c-88ec-fc2d4d871709",
   "metadata": {},
   "outputs": [],
   "source": [
    "df_2020 = pd.read_csv(\"athletic_sales_2020.csv\")\n",
    "df_2021 = pd.read_csv(\"athletic_sales_2021.csv\")"
   ]
  },
  {
   "cell_type": "code",
   "execution_count": 3,
   "id": "21b00a34-4b63-4992-a638-f16f7124a5f5",
   "metadata": {},
   "outputs": [
    {
     "name": "stdout",
     "output_type": "stream",
     "text": [
      "<class 'pandas.core.frame.DataFrame'>\n",
      "RangeIndex: 1297 entries, 0 to 1296\n",
      "Data columns (total 12 columns):\n",
      " #   Column            Non-Null Count  Dtype  \n",
      "---  ------            --------------  -----  \n",
      " 0   retailer          1297 non-null   object \n",
      " 1   retailer_id       1297 non-null   int64  \n",
      " 2   invoice_date      1297 non-null   object \n",
      " 3   region            1297 non-null   object \n",
      " 4   state             1297 non-null   object \n",
      " 5   city              1297 non-null   object \n",
      " 6   product           1297 non-null   object \n",
      " 7   price_per_unit    1297 non-null   int64  \n",
      " 8   units_sold        1297 non-null   int64  \n",
      " 9   total_sales       1297 non-null   int64  \n",
      " 10  operating_profit  1297 non-null   float64\n",
      " 11  sales_method      1297 non-null   object \n",
      "dtypes: float64(1), int64(4), object(7)\n",
      "memory usage: 121.7+ KB\n",
      "None\n",
      "<class 'pandas.core.frame.DataFrame'>\n",
      "RangeIndex: 8346 entries, 0 to 8345\n",
      "Data columns (total 12 columns):\n",
      " #   Column            Non-Null Count  Dtype  \n",
      "---  ------            --------------  -----  \n",
      " 0   retailer          8346 non-null   object \n",
      " 1   retailer_id       8346 non-null   int64  \n",
      " 2   invoice_date      8346 non-null   object \n",
      " 3   region            8346 non-null   object \n",
      " 4   state             8346 non-null   object \n",
      " 5   city              8346 non-null   object \n",
      " 6   product           8346 non-null   object \n",
      " 7   price_per_unit    8346 non-null   int64  \n",
      " 8   units_sold        8346 non-null   int64  \n",
      " 9   total_sales       8346 non-null   int64  \n",
      " 10  operating_profit  8346 non-null   float64\n",
      " 11  sales_method      8346 non-null   object \n",
      "dtypes: float64(1), int64(4), object(7)\n",
      "memory usage: 782.6+ KB\n",
      "None\n"
     ]
    }
   ],
   "source": [
    "print(df_2020.info())\n",
    "print(df_2021.info())"
   ]
  },
  {
   "cell_type": "code",
   "execution_count": 4,
   "id": "51dc401a-4f72-4343-a321-5f9e4ae0c77a",
   "metadata": {},
   "outputs": [
    {
     "name": "stdout",
     "output_type": "stream",
     "text": [
      "      retailer  retailer_id invoice_date     region         state  \\\n",
      "0  Foot Locker      1185732       1/1/20  Northeast      New York   \n",
      "1  Foot Locker      1185732       1/1/20  Northeast  Pennsylvania   \n",
      "2  Foot Locker      1185732       1/1/20  Northeast  Pennsylvania   \n",
      "3  Foot Locker      1185732       1/1/20  Northeast      New York   \n",
      "4  Foot Locker      1185732       1/1/20  Northeast  Pennsylvania   \n",
      "\n",
      "           city                product  price_per_unit  units_sold  \\\n",
      "0      New York  Men's Street Footwear              50        1200   \n",
      "1  Philadelphia        Women's Apparel              68          83   \n",
      "2  Philadelphia        Women's Apparel              75         275   \n",
      "3      New York  Men's Street Footwear              34         384   \n",
      "4  Philadelphia        Women's Apparel              53          83   \n",
      "\n",
      "   total_sales  operating_profit sales_method  \n",
      "0       600000         300000.00     In-store  \n",
      "1         5644           2426.92       Online  \n",
      "2       206250          61875.00       Outlet  \n",
      "3        13056           6789.12       Outlet  \n",
      "4         4399           1407.68       Outlet  \n"
     ]
    }
   ],
   "source": [
    "combined_df = pd.concat([df_2020, df_2021], axis=0, ignore_index=True)\n",
    "print(combined_df.head())"
   ]
  },
  {
   "cell_type": "code",
   "execution_count": 5,
   "id": "15c93aff-a3f8-4e67-b13d-2693555db8a1",
   "metadata": {},
   "outputs": [
    {
     "name": "stdout",
     "output_type": "stream",
     "text": [
      "retailer            0\n",
      "retailer_id         0\n",
      "invoice_date        0\n",
      "region              0\n",
      "state               0\n",
      "city                0\n",
      "product             0\n",
      "price_per_unit      0\n",
      "units_sold          0\n",
      "total_sales         0\n",
      "operating_profit    0\n",
      "sales_method        0\n",
      "dtype: int64\n"
     ]
    }
   ],
   "source": [
    "print(combined_df.isnull().sum())\n",
    "combined_df.dropna(inplace=True)"
   ]
  },
  {
   "cell_type": "code",
   "execution_count": 7,
   "id": "6069cb4c-e40a-4b9a-b511-6ace9bd870ae",
   "metadata": {},
   "outputs": [
    {
     "name": "stdout",
     "output_type": "stream",
     "text": [
      "0   2020-01-01\n",
      "1   2020-01-01\n",
      "2   2020-01-01\n",
      "3   2020-01-01\n",
      "4   2020-01-01\n",
      "Name: invoice_date, dtype: datetime64[ns]\n"
     ]
    }
   ],
   "source": [
    "print(combined_df['invoice_date'].head())"
   ]
  },
  {
   "cell_type": "code",
   "execution_count": 8,
   "id": "6eb31e4f-c9ff-4db8-ae78-e329e9a6e842",
   "metadata": {},
   "outputs": [],
   "source": [
    "combined_df['invoice_date'] = pd.to_datetime(combined_df['invoice_date'], format='%Y-%m-%d')"
   ]
  },
  {
   "cell_type": "code",
   "execution_count": 9,
   "id": "17964b28-47da-480e-83f7-6941a97169a5",
   "metadata": {},
   "outputs": [
    {
     "name": "stdout",
     "output_type": "stream",
     "text": [
      "<class 'pandas.core.frame.DataFrame'>\n",
      "RangeIndex: 9643 entries, 0 to 9642\n",
      "Data columns (total 12 columns):\n",
      " #   Column            Non-Null Count  Dtype         \n",
      "---  ------            --------------  -----         \n",
      " 0   retailer          9643 non-null   object        \n",
      " 1   retailer_id       9643 non-null   int64         \n",
      " 2   invoice_date      9643 non-null   datetime64[ns]\n",
      " 3   region            9643 non-null   object        \n",
      " 4   state             9643 non-null   object        \n",
      " 5   city              9643 non-null   object        \n",
      " 6   product           9643 non-null   object        \n",
      " 7   price_per_unit    9643 non-null   int64         \n",
      " 8   units_sold        9643 non-null   int64         \n",
      " 9   total_sales       9643 non-null   int64         \n",
      " 10  operating_profit  9643 non-null   float64       \n",
      " 11  sales_method      9643 non-null   object        \n",
      "dtypes: datetime64[ns](1), float64(1), int64(4), object(6)\n",
      "memory usage: 904.2+ KB\n",
      "None\n"
     ]
    }
   ],
   "source": [
    "print(combined_df.info())"
   ]
  },
  {
   "cell_type": "markdown",
   "id": "38a756ce-3860-4b22-b44e-6b4ce5fd9ec0",
   "metadata": {},
   "source": [
    "## Determine Which Region Sold the Most Products"
   ]
  },
  {
   "cell_type": "code",
   "execution_count": 10,
   "id": "30bf0905-f07d-47eb-8911-94385434a8a5",
   "metadata": {},
   "outputs": [],
   "source": [
    "region_sales = combined_df.groupby(['region', 'state', 'city']).size().reset_index(name='total_products_sold')"
   ]
  },
  {
   "cell_type": "code",
   "execution_count": 11,
   "id": "dc1a4fc6-561c-46d5-860f-3a245fe2d9ed",
   "metadata": {},
   "outputs": [
    {
     "name": "stdout",
     "output_type": "stream",
     "text": [
      "       region      state           city  total_products_sold\n",
      "27      South   Arkansas    Little Rock                  216\n",
      "40  Southeast   Virginia       Richmond                  216\n",
      "32      South      Texas         Dallas                  216\n",
      "31      South  Tennessee      Knoxville                  216\n",
      "30      South   Oklahoma  Oklahoma City                  216\n"
     ]
    }
   ],
   "source": [
    "region_sales_sorted = region_sales.sort_values('total_products_sold', ascending=False).head(5)\n",
    "print(region_sales_sorted)"
   ]
  },
  {
   "cell_type": "markdown",
   "id": "4c78a714-e83c-43af-b508-684e0829c25a",
   "metadata": {},
   "source": [
    "## Determine Which Region Had the Most Sales"
   ]
  },
  {
   "cell_type": "code",
   "execution_count": 12,
   "id": "86eca61b-5549-47ac-bef1-db76ab60637c",
   "metadata": {},
   "outputs": [],
   "source": [
    "region_total_sales = combined_df.groupby(['region', 'state', 'city'])['total_sales'].sum().reset_index(name='total_sales')"
   ]
  },
  {
   "cell_type": "code",
   "execution_count": 13,
   "id": "7bf77447-ebbe-4edd-85a7-976ad64c48fc",
   "metadata": {},
   "outputs": [
    {
     "name": "stdout",
     "output_type": "stream",
     "text": [
      "       region           state           city  total_sales\n",
      "21  Northeast        New York       New York     39801235\n",
      "44       West      California  San Francisco     33973228\n",
      "34  Southeast         Florida          Miami     31600863\n",
      "39  Southeast  South Carolina     Charleston     29285637\n",
      "35  Southeast         Florida        Orlando     27682851\n"
     ]
    }
   ],
   "source": [
    "region_total_sales_sorted = region_total_sales.sort_values('total_sales', ascending=False).head(5)\n",
    "print(region_total_sales_sorted)"
   ]
  },
  {
   "cell_type": "markdown",
   "id": "ed9d5652-c4a3-4399-b556-f6af6451bb16",
   "metadata": {},
   "source": [
    "## Determine Which Retailer Had the Most Sales"
   ]
  },
  {
   "cell_type": "code",
   "execution_count": 14,
   "id": "8b1c474d-6762-4e3a-853e-b06b5a4a1eb5",
   "metadata": {},
   "outputs": [],
   "source": [
    "retailer_sales = combined_df.groupby(['retailer', 'region', 'state', 'city'])['total_sales'].sum().reset_index(name='total_sales')"
   ]
  },
  {
   "cell_type": "code",
   "execution_count": 15,
   "id": "e2be9dd2-9fe9-4314-91ba-55a692e0435a",
   "metadata": {},
   "outputs": [
    {
     "name": "stdout",
     "output_type": "stream",
     "text": [
      "        retailer     region           state           city  total_sales\n",
      "103    West Gear       West      California  San Francisco     32794405\n",
      "50        Kohl's       West      California    Los Angeles     25127160\n",
      "22   Foot Locker  Northeast        New York       New York     25008568\n",
      "109    West Gear       West      Washington        Seattle     24862675\n",
      "33   Foot Locker  Southeast  South Carolina     Charleston     24822280\n"
     ]
    }
   ],
   "source": [
    "retailer_sales_sorted = retailer_sales.sort_values('total_sales', ascending=False).head(5)\n",
    "print(retailer_sales_sorted)"
   ]
  },
  {
   "cell_type": "markdown",
   "id": "8edb81c9-a798-4f0c-84ab-c6ba8d29834e",
   "metadata": {},
   "source": [
    "## Determine Which Retailer Sold the Most Women's Athletic Footwear"
   ]
  },
  {
   "cell_type": "code",
   "execution_count": 17,
   "id": "27e1b804-2ddf-4b9c-a206-95c1dd3013e2",
   "metadata": {},
   "outputs": [
    {
     "name": "stdout",
     "output_type": "stream",
     "text": [
      "Index(['retailer', 'retailer_id', 'invoice_date', 'region', 'state', 'city',\n",
      "       'product', 'price_per_unit', 'units_sold', 'total_sales',\n",
      "       'operating_profit', 'sales_method'],\n",
      "      dtype='object')\n"
     ]
    }
   ],
   "source": [
    "print(combined_df.columns)"
   ]
  },
  {
   "cell_type": "code",
   "execution_count": 18,
   "id": "7bcdd41d-e678-448c-84f7-87ade2c7d959",
   "metadata": {},
   "outputs": [
    {
     "name": "stdout",
     "output_type": "stream",
     "text": [
      "[\"Men's Street Footwear\" \"Women's Apparel\" \"Men's Athletic Footwear\"\n",
      " \"Women's Street Footwear\" \"Women's Athletic Footwear\" \"Men's Apparel\"]\n"
     ]
    }
   ],
   "source": [
    "print(combined_df['product'].unique())"
   ]
  },
  {
   "cell_type": "code",
   "execution_count": 19,
   "id": "a81d0ca2-1939-4859-831a-d3efa32a605f",
   "metadata": {},
   "outputs": [],
   "source": [
    "womens_footwear = combined_df[combined_df['product'] == \"Women's Athletic Footwear\"]"
   ]
  },
  {
   "cell_type": "code",
   "execution_count": 20,
   "id": "b8fecdca-5b14-4d8b-9f77-c28e2e4c91e3",
   "metadata": {},
   "outputs": [],
   "source": [
    "womens_footwear_sales = womens_footwear.groupby(['retailer', 'region', 'state', 'city'])['total_sales'].sum().reset_index(name='total_sales')\n"
   ]
  },
  {
   "cell_type": "code",
   "execution_count": 21,
   "id": "9022d813-54c1-4661-bd3f-7770cbcd9bab",
   "metadata": {},
   "outputs": [
    {
     "name": "stdout",
     "output_type": "stream",
     "text": [
      "        retailer     region           state           city  total_sales\n",
      "101    West Gear       West      California  San Francisco      4558561\n",
      "22   Foot Locker  Northeast        New York       New York      3433814\n",
      "49        Kohl's       West      California    Los Angeles      3350432\n",
      "107    West Gear       West      Washington        Seattle      3300656\n",
      "33   Foot Locker  Southeast  South Carolina     Charleston      3090484\n"
     ]
    }
   ],
   "source": [
    "womens_footwear_sales_sorted = womens_footwear_sales.sort_values('total_sales', ascending=False).head(5)\n",
    "print(womens_footwear_sales_sorted)"
   ]
  },
  {
   "cell_type": "markdown",
   "id": "25e293b4-71c1-476d-bfd7-63c55ce29ba2",
   "metadata": {},
   "source": [
    "## Determine the Day with the Most Women's Athletic Footwear Sales"
   ]
  },
  {
   "cell_type": "code",
   "execution_count": 22,
   "id": "31881736-0007-4351-9a46-c1c639b9d946",
   "metadata": {},
   "outputs": [],
   "source": [
    "daily_sales = womens_footwear.pivot_table(index='invoice_date', values='total_sales', aggfunc='sum')"
   ]
  },
  {
   "cell_type": "code",
   "execution_count": 23,
   "id": "dbaf010e-ab78-42c9-a18a-79cdebfe919c",
   "metadata": {},
   "outputs": [
    {
     "name": "stdout",
     "output_type": "stream",
     "text": [
      "              total_sales\n",
      "invoice_date             \n",
      "2021-07-16        1521825\n",
      "2021-12-16        1473497\n",
      "2021-06-17        1376988\n",
      "2021-08-17        1086294\n",
      "2021-07-23        1021806\n",
      "2021-11-17        1021145\n",
      "2021-12-09         915011\n",
      "2021-06-24         884238\n",
      "2021-07-09         869054\n",
      "2021-08-10         839120\n"
     ]
    }
   ],
   "source": [
    "daily_sales_resampled = daily_sales.resample('D').sum().sort_values('total_sales', ascending=False).head(10)\n",
    "print(daily_sales_resampled)"
   ]
  },
  {
   "cell_type": "markdown",
   "id": "d9069952-cc16-4b39-bf82-67d9fa1a7b75",
   "metadata": {},
   "source": [
    "## Determine the Week with the Most Women's Athletic Footwear Sales"
   ]
  },
  {
   "cell_type": "code",
   "execution_count": 24,
   "id": "e30433c1-b377-4328-8e7c-10d0db6b1c3c",
   "metadata": {},
   "outputs": [
    {
     "name": "stdout",
     "output_type": "stream",
     "text": [
      "              total_sales\n",
      "invoice_date             \n",
      "2021-12-19        3098970\n",
      "2021-12-12        2922161\n",
      "2021-07-11        2835078\n",
      "2021-07-18        2801449\n",
      "2021-11-14        2531721\n",
      "2021-08-22        2491259\n",
      "2021-08-15        2463941\n",
      "2021-11-21        2449537\n",
      "2021-05-16        2422132\n",
      "2021-06-13        2358602\n"
     ]
    }
   ],
   "source": [
    "weekly_sales_resampled = daily_sales.resample('W').sum().sort_values('total_sales', ascending=False).head(10)\n",
    "print(weekly_sales_resampled)"
   ]
  },
  {
   "cell_type": "code",
   "execution_count": null,
   "id": "06f11c6b-ebd8-4308-9544-942bdcde1d46",
   "metadata": {},
   "outputs": [],
   "source": []
  }
 ],
 "metadata": {
  "kernelspec": {
   "display_name": "Python 3 (ipykernel)",
   "language": "python",
   "name": "python3"
  },
  "language_info": {
   "codemirror_mode": {
    "name": "ipython",
    "version": 3
   },
   "file_extension": ".py",
   "mimetype": "text/x-python",
   "name": "python",
   "nbconvert_exporter": "python",
   "pygments_lexer": "ipython3",
   "version": "3.12.4"
  }
 },
 "nbformat": 4,
 "nbformat_minor": 5
}
